{
 "cells": [
  {
   "cell_type": "code",
   "execution_count": 2,
   "metadata": {},
   "outputs": [
    {
     "name": "stdout",
     "output_type": "stream",
     "text": [
      "n2 =  6.0\n"
     ]
    }
   ],
   "source": [
    "# Proportion\n",
    "# n1/d1 = n2/d2\n",
    "\n",
    "n1 = 2\n",
    "d1 = 4\n",
    "n2 = 0\n",
    "d2 = 12\n",
    "\n",
    "if n2 == 0:\n",
    "    ans = d2 * n1 / d1\n",
    "    print(\"n2 = \", ans)"
   ]
  }
 ],
 "metadata": {
  "kernelspec": {
   "display_name": "Python 3",
   "language": "python",
   "name": "python3"
  },
  "language_info": {
   "codemirror_mode": {
    "name": "ipython",
    "version": 3
   },
   "file_extension": ".py",
   "mimetype": "text/x-python",
   "name": "python",
   "nbconvert_exporter": "python",
   "pygments_lexer": "ipython3",
   "version": "3.12.2"
  }
 },
 "nbformat": 4,
 "nbformat_minor": 2
}

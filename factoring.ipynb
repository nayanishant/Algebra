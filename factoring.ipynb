{
 "cells": [
  {
   "cell_type": "code",
   "execution_count": 2,
   "metadata": {},
   "outputs": [
    {
     "name": "stdout",
     "output_type": "stream",
     "text": [
      "2\n",
      "1\n"
     ]
    }
   ],
   "source": [
    "# The modulus (%) finds the remainder\n",
    "\n",
    "print(5%3)\n",
    "print(31%3)\n"
   ]
  },
  {
   "cell_type": "code",
   "execution_count": 3,
   "metadata": {},
   "outputs": [
    {
     "name": "stdout",
     "output_type": "stream",
     "text": [
      "1\n",
      "2\n",
      "4\n",
      "5\n",
      "10\n",
      "20\n"
     ]
    }
   ],
   "source": [
    "#Use modulus in a loop to find the factor\n",
    "num = 20\n",
    "for factors in range(1, num+1):\n",
    "    if num%factors == 0:\n",
    "        print(factors)"
   ]
  },
  {
   "cell_type": "code",
   "execution_count": 4,
   "metadata": {},
   "outputs": [
    {
     "name": "stdout",
     "output_type": "stream",
     "text": [
      "original:  12 / 24\n",
      "reduced:  1 / 2\n"
     ]
    }
   ],
   "source": [
    "numerator = 12\n",
    "denominator = 24\n",
    "factor = 1\n",
    "\n",
    "for i in range(1, denominator+1):\n",
    "    if numerator%i == 0 and denominator%i == 0:\n",
    "        factor = i\n",
    "\n",
    "n = int(numerator/factor)\n",
    "d = int(denominator/factor)\n",
    "\n",
    "print(\"original: \", numerator, \"/\", denominator)\n",
    "print(\"reduced: \", n, \"/\", d)"
   ]
  },
  {
   "cell_type": "code",
   "execution_count": 8,
   "metadata": {},
   "outputs": [
    {
     "name": "stdout",
     "output_type": "stream",
     "text": [
      "The decimal is:  0.125\n",
      "The fraction is:  1 / 8\n"
     ]
    }
   ],
   "source": [
    "# Decimal to fraction\n",
    "\n",
    "digit = input(\"Enter a decimal number to convert: \")\n",
    "\n",
    "exponent = int(len(digit)) - 1\n",
    "num = float(digit)\n",
    "numerator = int(num * 10**exponent)\n",
    "denominator = 10**exponent\n",
    "factor = 1\n",
    "\n",
    "for i in range(1, denominator+1):\n",
    "    if numerator%i == 0 and denominator%i == 0:\n",
    "        factor = i\n",
    "\n",
    "n = int(numerator/factor)\n",
    "d = int(denominator/factor)\n",
    "print(\"The decimal is: \", num)\n",
    "print(\"The fraction is: \", n, \"/\", d)"
   ]
  },
  {
   "cell_type": "code",
   "execution_count": 14,
   "metadata": {},
   "outputs": [
    {
     "name": "stdout",
     "output_type": "stream",
     "text": [
      "n =  12\n",
      "square rooted factor : 2\n",
      "square factor : 4\n",
      "integer:  3.0\n"
     ]
    }
   ],
   "source": [
    "# Factor of square root\n",
    "import math\n",
    "\n",
    "n = 12\n",
    "max_factor = 1\n",
    "\n",
    "# The key ingredient\n",
    "upper_limit = math.floor(math.sqrt(n)) + 1\n",
    "\n",
    "for i in range(1, upper_limit):\n",
    "    if n % (i**2) == 0:\n",
    "        max_factor = i\n",
    "\n",
    "print(\"n = \", n)\n",
    "print(\"square rooted factor :\", max_factor)\n",
    "print(\"square factor :\", max_factor**2)\n",
    "print(\"integer: \", n/(max_factor**2))"
   ]
  },
  {
   "cell_type": "code",
   "execution_count": 18,
   "metadata": {},
   "outputs": [
    {
     "data": {
      "text/latex": [
       "$\\displaystyle 2 \\sqrt{6}$"
      ],
      "text/plain": [
       "2*sqrt(6)"
      ]
     },
     "execution_count": 18,
     "metadata": {},
     "output_type": "execute_result"
    }
   ],
   "source": [
    "# Using sympy\n",
    "\n",
    "import math\n",
    "import sympy\n",
    "from sympy import symbols\n",
    "\n",
    "n = 24\n",
    "\n",
    "upper_limit = math.floor(math.sqrt(n)) + 1\n",
    "max_factor = 1\n",
    "other_factor = 1\n",
    "square_root = 1\n",
    "\n",
    "for i in range(1, upper_limit):\n",
    "    if n%(i**2) == 0:\n",
    "        max_factor = i**2\n",
    "\n",
    "other_factor = n/max_factor\n",
    "square_root = int(math.sqrt(max_factor))\n",
    "other_factor = int(other_factor)\n",
    "output = square_root*sympy.sqrt(other_factor)\n",
    "\n",
    "output"
   ]
  },
  {
   "cell_type": "code",
   "execution_count": null,
   "metadata": {},
   "outputs": [],
   "source": []
  }
 ],
 "metadata": {
  "kernelspec": {
   "display_name": "Python 3",
   "language": "python",
   "name": "python3"
  },
  "language_info": {
   "codemirror_mode": {
    "name": "ipython",
    "version": 3
   },
   "file_extension": ".py",
   "mimetype": "text/x-python",
   "name": "python",
   "nbconvert_exporter": "python",
   "pygments_lexer": "ipython3",
   "version": "3.12.2"
  }
 },
 "nbformat": 4,
 "nbformat_minor": 2
}

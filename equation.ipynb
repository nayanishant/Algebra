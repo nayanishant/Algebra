{
 "cells": [
  {
   "cell_type": "code",
   "execution_count": 1,
   "metadata": {},
   "outputs": [
    {
     "name": "stdout",
     "output_type": "stream",
     "text": [
      "x =  [2]\n"
     ]
    }
   ],
   "source": [
    "# Solving for x. The variable eq is the equation set equal to zero. This will print an array of solution.\n",
    "\n",
    "import sympy\n",
    "from sympy import symbols\n",
    "from sympy.solvers import solve\n",
    "\n",
    "x = symbols('x')\n",
    "eq = x - 2\n",
    "\n",
    "print(\"x = \", solve(eq, x))"
   ]
  },
  {
   "cell_type": "code",
   "execution_count": 3,
   "metadata": {},
   "outputs": [
    {
     "name": "stdout",
     "output_type": "stream",
     "text": [
      "x =  [-2, 2]\n"
     ]
    }
   ],
   "source": [
    "import sympy\n",
    "from sympy import symbols\n",
    "from sympy.solvers import solve\n",
    "\n",
    "x = symbols('x')\n",
    "eq = x**2 - 4\n",
    "\n",
    "print(\"x = \", solve(eq, x))"
   ]
  },
  {
   "cell_type": "code",
   "execution_count": 5,
   "metadata": {},
   "outputs": [
    {
     "name": "stdout",
     "output_type": "stream",
     "text": [
      "x =  [-sqrt(2), sqrt(2)]\n"
     ]
    }
   ],
   "source": [
    "import sympy\n",
    "from sympy import symbols\n",
    "from sympy.solvers import solve\n",
    "\n",
    "x = symbols('x')\n",
    "eq = x**2 - 2\n",
    "\n",
    "print(\"x = \", solve(eq, x))"
   ]
  },
  {
   "cell_type": "code",
   "execution_count": 6,
   "metadata": {},
   "outputs": [
    {
     "name": "stdout",
     "output_type": "stream",
     "text": [
      "x =  [2]\n"
     ]
    }
   ],
   "source": [
    "import sympy\n",
    "from sympy import symbols\n",
    "from sympy.solvers import solve\n",
    "\n",
    "x = symbols('x')\n",
    "eq = 2*x - 4\n",
    "\n",
    "print(\"x = \", solve(eq, x))"
   ]
  },
  {
   "cell_type": "code",
   "execution_count": 1,
   "metadata": {},
   "outputs": [
    {
     "name": "stdout",
     "output_type": "stream",
     "text": [
      "x =  [2]\n"
     ]
    }
   ],
   "source": [
    "import sympy\n",
    "from sympy import symbols\n",
    "from sympy.solvers import solve\n",
    "\n",
    "x = symbols('x')\n",
    "eq = 3*x-6\n",
    "\n",
    "print('x = ', solve(eq, x))"
   ]
  },
  {
   "cell_type": "code",
   "execution_count": 2,
   "metadata": {},
   "outputs": [
    {
     "name": "stdout",
     "output_type": "stream",
     "text": [
      "x =  2\n"
     ]
    }
   ],
   "source": [
    "import sympy\n",
    "from sympy import symbols\n",
    "from sympy.solvers import solve\n",
    "\n",
    "x = symbols('x')\n",
    "eq = 2*x-4\n",
    "\n",
    "sol = solve(eq, x)\n",
    "print('x = ', sol[0])"
   ]
  },
  {
   "cell_type": "code",
   "execution_count": 6,
   "metadata": {},
   "outputs": [
    {
     "name": "stdout",
     "output_type": "stream",
     "text": [
      "x =  1\n",
      "x =  2\n",
      "x =  3\n"
     ]
    }
   ],
   "source": [
    "import sympy\n",
    "from sympy import symbols\n",
    "from sympy.solvers import solve\n",
    "\n",
    "x = symbols('x')\n",
    "eq = (x-1)*(x-2)*(x-3)\n",
    "\n",
    "sol = solve(eq, x)\n",
    "for i in sol:\n",
    "    print('x = ', i)"
   ]
  },
  {
   "cell_type": "code",
   "execution_count": 9,
   "metadata": {},
   "outputs": [
    {
     "name": "stdout",
     "output_type": "stream",
     "text": [
      "x =  -5\n"
     ]
    }
   ],
   "source": [
    "from sympy import *\n",
    "\n",
    "var('x, y')\n",
    "\n",
    "# First equation set equal to zero, ready to solve\n",
    "first = 2*x + 10\n",
    "\n",
    "# Sympy syntax fro equation equal to zero, ready to factor\n",
    "eq1 = Eq(first, 0)\n",
    "\n",
    "sol = solve(eq1, x)\n",
    "\n",
    "print('x = ', sol[0])"
   ]
  },
  {
   "cell_type": "code",
   "execution_count": 11,
   "metadata": {},
   "outputs": [
    {
     "name": "stdout",
     "output_type": "stream",
     "text": [
      "x =  y/2 - 5\n"
     ]
    }
   ],
   "source": [
    "from sympy import *\n",
    "\n",
    "var('x y')\n",
    "\n",
    "# First equation set equal to zero, ready to solve\n",
    "first = 2*x + 10\n",
    "\n",
    "# Sympy syntax fro equation equal to zero, ready to factor\n",
    "eq1 = Eq(first, y)\n",
    "\n",
    "sol = solve(eq1, x)\n",
    "\n",
    "print('x = ', sol[0])"
   ]
  },
  {
   "cell_type": "code",
   "execution_count": 2,
   "metadata": {},
   "outputs": [
    {
     "name": "stdout",
     "output_type": "stream",
     "text": [
      "x =  y/2\n"
     ]
    }
   ],
   "source": [
    "from sympy import *\n",
    "\n",
    "var('x y')\n",
    "\n",
    "# First equation set equal to zero, ready to solve\n",
    "first = 2*x - y\n",
    "\n",
    "# Sympy syntax fro equation equal to zero, ready to factor\n",
    "eq1 = Eq(first, 0)\n",
    "\n",
    "sol = solve(eq1, x)\n",
    "\n",
    "print('x = ', sol[0])"
   ]
  },
  {
   "cell_type": "code",
   "execution_count": 4,
   "metadata": {},
   "outputs": [
    {
     "data": {
      "text/latex": [
       "$\\displaystyle 2 \\left(x + 5 y + 2\\right)$"
      ],
      "text/plain": [
       "2*(x + 5*y + 2)"
      ]
     },
     "execution_count": 4,
     "metadata": {},
     "output_type": "execute_result"
    }
   ],
   "source": [
    "# Factor\n",
    "\n",
    "import sympy\n",
    "from sympy import symbols\n",
    "\n",
    "var('x y')\n",
    "\n",
    "# Equation set equal to zero, ready to solve\n",
    "eq = 2*x + 10*y + 4\n",
    "\n",
    "sympy.factor(eq)"
   ]
  },
  {
   "cell_type": "code",
   "execution_count": 5,
   "metadata": {},
   "outputs": [
    {
     "data": {
      "text/latex": [
       "$\\displaystyle \\left(x - 2\\right) \\left(x + 2\\right)$"
      ],
      "text/plain": [
       "(x - 2)*(x + 2)"
      ]
     },
     "execution_count": 5,
     "metadata": {},
     "output_type": "execute_result"
    }
   ],
   "source": [
    "# Factor\n",
    "\n",
    "import sympy\n",
    "from sympy import symbols\n",
    "\n",
    "var('x y')\n",
    "\n",
    "# Equation set equal to zero, ready to solve\n",
    "eq = x**2 - 4\n",
    "\n",
    "sympy.factor(eq)"
   ]
  },
  {
   "cell_type": "code",
   "execution_count": 8,
   "metadata": {},
   "outputs": [
    {
     "data": {
      "text/latex": [
       "$\\displaystyle \\left(x - 3\\right) \\left(x - 1\\right) \\left(x + 2\\right)$"
      ],
      "text/plain": [
       "(x - 3)*(x - 1)*(x + 2)"
      ]
     },
     "execution_count": 8,
     "metadata": {},
     "output_type": "execute_result"
    }
   ],
   "source": [
    "# Factor\n",
    "\n",
    "import sympy\n",
    "from sympy import symbols\n",
    "\n",
    "var('x y')\n",
    "\n",
    "# Equation set equal to zero, ready to solve\n",
    "eq = x**3 - 2*x**2 - 5*x + 6\n",
    "\n",
    "sympy.factor(eq)"
   ]
  }
 ],
 "metadata": {
  "kernelspec": {
   "display_name": "Python 3",
   "language": "python",
   "name": "python3"
  },
  "language_info": {
   "codemirror_mode": {
    "name": "ipython",
    "version": 3
   },
   "file_extension": ".py",
   "mimetype": "text/x-python",
   "name": "python",
   "nbconvert_exporter": "python",
   "pygments_lexer": "ipython3",
   "version": "3.12.2"
  }
 },
 "nbformat": 4,
 "nbformat_minor": 2
}
